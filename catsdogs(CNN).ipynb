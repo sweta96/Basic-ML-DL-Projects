{
  "nbformat": 4,
  "nbformat_minor": 0,
  "metadata": {
    "colab": {
      "name": "catsdogs(CNN).ipynb",
      "provenance": [],
      "include_colab_link": true
    },
    "kernelspec": {
      "name": "python3",
      "display_name": "Python 3"
    },
    "accelerator": "TPU"
  },
  "cells": [
    {
      "cell_type": "markdown",
      "metadata": {
        "id": "view-in-github",
        "colab_type": "text"
      },
      "source": [
        "<a href=\"https://colab.research.google.com/github/sweta96/Basic-ML-DL-Projects/blob/master/catsdogs(CNN).ipynb\" target=\"_parent\"><img src=\"https://colab.research.google.com/assets/colab-badge.svg\" alt=\"Open In Colab\"/></a>"
      ]
    },
    {
      "cell_type": "code",
      "metadata": {
        "id": "kucPjJ4Zfrl7",
        "colab_type": "code",
        "outputId": "0887c9db-6b3f-4d9c-bef9-3f55f6ff0a3d",
        "colab": {
          "base_uri": "https://localhost:8080/",
          "height": 122
        }
      },
      "source": [
        "from google.colab import drive\n",
        "drive.mount('/content/gdrive')"
      ],
      "execution_count": 0,
      "outputs": [
        {
          "output_type": "stream",
          "text": [
            "Mounted at /content/gdrive\n"
          ],
          "name": "stdout"
        }
      ]
    },
    {
      "cell_type": "code",
      "metadata": {
        "id": "C5Co_90dPyoU",
        "colab_type": "code",
        "outputId": "276709de-a73c-4f34-b7ec-9ec592b9f4b4",
        "colab": {
          "base_uri": "https://localhost:8080/",
          "height": 51
        }
      },
      "source": [
        "%cd /content/gdrive/My\\ Drive/Dataset\n",
        "!ls"
      ],
      "execution_count": 0,
      "outputs": [
        {
          "output_type": "stream",
          "text": [
            "/content/gdrive/My Drive/Dataset\n",
            "catanddog  catanddog.zip  Genderclassifier.csv\twinequality_red.csv\n"
          ],
          "name": "stdout"
        }
      ]
    },
    {
      "cell_type": "code",
      "metadata": {
        "id": "YZrG7fGzP0y6",
        "colab_type": "code",
        "colab": {}
      },
      "source": [
        "catdog='/content/gdrive/My Drive/Dataset/catanddog'\n",
        "IMG_SIZE = 64,64"
      ],
      "execution_count": 0,
      "outputs": []
    },
    {
      "cell_type": "code",
      "metadata": {
        "id": "ujp-MXTCQBKr",
        "colab_type": "code",
        "colab": {}
      },
      "source": [
        "image_names = []\n",
        "data_labels = []\n",
        "data_images = []"
      ],
      "execution_count": 0,
      "outputs": []
    },
    {
      "cell_type": "code",
      "metadata": {
        "id": "3XxJ8UeQQDmq",
        "colab_type": "code",
        "colab": {}
      },
      "source": [
        "import cv2\n",
        "import os\n",
        "import tensorflow as tf\n",
        "\n",
        "def  create_data(DIR):\n",
        "     for folder in os.listdir(DIR):\n",
        "        for file in os.listdir(os.path.join(DIR,folder)):\n",
        "            if file.endswith(\"jpg\"):\n",
        "                image_names.append(os.path.join(DIR,folder,file))\n",
        "                data_labels.append(folder)\n",
        "                img = cv2.imread(os.path.join(DIR,folder,file))\n",
        "                im = cv2.resize(img,IMG_SIZE)\n",
        "                data_images.append(im)\n",
        "            else:\n",
        "                continue"
      ],
      "execution_count": 0,
      "outputs": []
    },
    {
      "cell_type": "code",
      "metadata": {
        "id": "p2dRVEDQQGiS",
        "colab_type": "code",
        "colab": {}
      },
      "source": [
        "create_data(catdog)"
      ],
      "execution_count": 0,
      "outputs": []
    },
    {
      "cell_type": "code",
      "metadata": {
        "id": "mNh_1LtnQM2K",
        "colab_type": "code",
        "colab": {}
      },
      "source": [
        "import numpy as np\n",
        "\n",
        "data = np.array(data_images)"
      ],
      "execution_count": 0,
      "outputs": []
    },
    {
      "cell_type": "code",
      "metadata": {
        "id": "CuzSWlatQPpK",
        "colab_type": "code",
        "outputId": "0b202aba-41d6-42d1-a7d2-e331cc224227",
        "colab": {
          "base_uri": "https://localhost:8080/",
          "height": 34
        }
      },
      "source": [
        "from sklearn.preprocessing import LabelEncoder\n",
        "from keras.utils import np_utils\n",
        "\n",
        "le = LabelEncoder()\n",
        "label = le.fit_transform(data_labels)"
      ],
      "execution_count": 0,
      "outputs": [
        {
          "output_type": "stream",
          "text": [
            "Using TensorFlow backend.\n"
          ],
          "name": "stderr"
        }
      ]
    },
    {
      "cell_type": "code",
      "metadata": {
        "id": "yJpxt4BHQS9S",
        "colab_type": "code",
        "outputId": "ea4d0f35-fa7f-40e1-ed57-1f64e32df7f2",
        "colab": {
          "base_uri": "https://localhost:8080/",
          "height": 85
        }
      },
      "source": [
        "from sklearn.model_selection import train_test_split\n",
        "\n",
        "x_train,x_test,y_train,y_test=train_test_split(data,label,test_size=0.20,random_state=42)\n",
        "\n",
        "print(\"X_train shape\",x_train.shape)\n",
        "print(\"X_test shape\",x_test.shape)\n",
        "print(\"y_train shape\",y_train.shape)\n",
        "print(\"y_test shape\",y_test.shape)"
      ],
      "execution_count": 0,
      "outputs": [
        {
          "output_type": "stream",
          "text": [
            "X_train shape (1122, 64, 64, 3)\n",
            "X_test shape (281, 64, 64, 3)\n",
            "y_train shape (1122,)\n",
            "y_test shape (281,)\n"
          ],
          "name": "stdout"
        }
      ]
    },
    {
      "cell_type": "code",
      "metadata": {
        "id": "Q5DAfw8-Qkya",
        "colab_type": "code",
        "outputId": "000eed05-ffef-482a-d2a8-72fa7a97a36d",
        "colab": {
          "base_uri": "https://localhost:8080/",
          "height": 564
        }
      },
      "source": [
        "from keras.models import Sequential\n",
        "from keras.layers import Convolution2D\n",
        "from keras.layers import MaxPooling2D\n",
        "from keras.layers import Flatten\n",
        "from keras.layers import Dense\n",
        "from keras.layers import Dropout\n",
        "\n",
        "classifier=Sequential()\n",
        "classifier.add(Convolution2D(32, 3, 3, input_shape = (64, 64, 3), activation = 'relu'))\n",
        "classifier.add(MaxPooling2D(pool_size=(2,2)))\n",
        "classifier.add(Dropout(0.5))\n",
        "classifier.add(Flatten())\n",
        "classifier.add(Dense(output_dim= 128, activation='relu'))\n",
        "classifier.add(Dense(output_dim= 1, activation='sigmoid'))\n",
        "classifier.compile(optimizer= 'adam', loss= 'binary_crossentropy', metrics= ['accuracy'])\n",
        "classifier.summary()"
      ],
      "execution_count": 0,
      "outputs": [
        {
          "output_type": "stream",
          "text": [
            "WARNING:tensorflow:From /usr/local/lib/python3.6/dist-packages/tensorflow/python/framework/op_def_library.py:263: colocate_with (from tensorflow.python.framework.ops) is deprecated and will be removed in a future version.\n",
            "Instructions for updating:\n",
            "Colocations handled automatically by placer.\n",
            "WARNING:tensorflow:From /usr/local/lib/python3.6/dist-packages/keras/backend/tensorflow_backend.py:3445: calling dropout (from tensorflow.python.ops.nn_ops) with keep_prob is deprecated and will be removed in a future version.\n",
            "Instructions for updating:\n",
            "Please use `rate` instead of `keep_prob`. Rate should be set to `rate = 1 - keep_prob`.\n",
            "_________________________________________________________________\n",
            "Layer (type)                 Output Shape              Param #   \n",
            "=================================================================\n",
            "conv2d_1 (Conv2D)            (None, 62, 62, 32)        896       \n",
            "_________________________________________________________________\n",
            "max_pooling2d_1 (MaxPooling2 (None, 31, 31, 32)        0         \n",
            "_________________________________________________________________\n",
            "dropout_1 (Dropout)          (None, 31, 31, 32)        0         \n",
            "_________________________________________________________________\n",
            "flatten_1 (Flatten)          (None, 30752)             0         \n",
            "_________________________________________________________________\n",
            "dense_1 (Dense)              (None, 128)               3936384   \n",
            "_________________________________________________________________\n",
            "dense_2 (Dense)              (None, 1)                 129       \n",
            "=================================================================\n",
            "Total params: 3,937,409\n",
            "Trainable params: 3,937,409\n",
            "Non-trainable params: 0\n",
            "_________________________________________________________________\n"
          ],
          "name": "stdout"
        },
        {
          "output_type": "stream",
          "text": [
            "/usr/local/lib/python3.6/dist-packages/ipykernel_launcher.py:9: UserWarning: Update your `Conv2D` call to the Keras 2 API: `Conv2D(32, (3, 3), input_shape=(64, 64, 3..., activation=\"relu\")`\n",
            "  if __name__ == '__main__':\n",
            "/usr/local/lib/python3.6/dist-packages/ipykernel_launcher.py:13: UserWarning: Update your `Dense` call to the Keras 2 API: `Dense(activation=\"relu\", units=128)`\n",
            "  del sys.path[0]\n",
            "/usr/local/lib/python3.6/dist-packages/ipykernel_launcher.py:14: UserWarning: Update your `Dense` call to the Keras 2 API: `Dense(activation=\"sigmoid\", units=1)`\n",
            "  \n"
          ],
          "name": "stderr"
        }
      ]
    },
    {
      "cell_type": "code",
      "metadata": {
        "id": "RbqglT9PRxd6",
        "colab_type": "code",
        "colab": {}
      },
      "source": [
        "from keras.preprocessing.image import ImageDataGenerator\n",
        "\n",
        "train_datagen=ImageDataGenerator(\n",
        "    rescale=1./255,\n",
        "    shear_range=0.2,\n",
        "    zoom_range=0.2,\n",
        "    horizontal_flip=True)\n",
        "\n",
        "train_datagen.fit(x_train)"
      ],
      "execution_count": 0,
      "outputs": []
    },
    {
      "cell_type": "code",
      "metadata": {
        "id": "yrUcwKbcR1np",
        "colab_type": "code",
        "outputId": "bfbeaab2-b7a8-4410-90c3-668831697502",
        "colab": {
          "base_uri": "https://localhost:8080/",
          "height": 224
        }
      },
      "source": [
        "batch_size = 32\n",
        "steps_per_epoch=len(x_train)\n",
        "validation_steps=len(y_test)\n",
        "\n",
        "history=classifier.fit_generator(\n",
        "    train_datagen.flow(x_train,y_train, batch_size=batch_size),\n",
        "    steps_per_epoch = steps_per_epoch,\n",
        "    epochs = 4,\n",
        "    verbose = 2,\n",
        "    validation_data = (x_test,y_test),\n",
        "    validation_steps = validation_steps)"
      ],
      "execution_count": 0,
      "outputs": [
        {
          "output_type": "stream",
          "text": [
            "WARNING:tensorflow:From /usr/local/lib/python3.6/dist-packages/tensorflow/python/ops/math_ops.py:3066: to_int32 (from tensorflow.python.ops.math_ops) is deprecated and will be removed in a future version.\n",
            "Instructions for updating:\n",
            "Use tf.cast instead.\n",
            "Epoch 1/4\n",
            " - 242s - loss: 0.5473 - acc: 0.7172 - val_loss: 5.5025 - val_acc: 0.6477\n",
            "Epoch 2/4\n",
            " - 240s - loss: 0.3419 - acc: 0.8482 - val_loss: 5.8070 - val_acc: 0.6335\n",
            "Epoch 3/4\n",
            " - 256s - loss: 0.2279 - acc: 0.9081 - val_loss: 5.7377 - val_acc: 0.6406\n",
            "Epoch 4/4\n",
            " - 263s - loss: 0.1478 - acc: 0.9421 - val_loss: 6.0158 - val_acc: 0.6228\n"
          ],
          "name": "stdout"
        }
      ]
    },
    {
      "cell_type": "code",
      "metadata": {
        "id": "8QeNfvRnWSUQ",
        "colab_type": "code",
        "colab": {}
      },
      "source": [
        "classifier.save_weights('model.h5')"
      ],
      "execution_count": 0,
      "outputs": []
    },
    {
      "cell_type": "code",
      "metadata": {
        "id": "pMGuKn_0Wey-",
        "colab_type": "code",
        "outputId": "0b1a0889-61aa-42ba-cc42-ae66f2631a69",
        "colab": {
          "base_uri": "https://localhost:8080/",
          "height": 294
        }
      },
      "source": [
        "import matplotlib.pyplot as plt\n",
        "from sklearn.metrics import confusion_matrix\n",
        "import seaborn as sns\n",
        "\n",
        "pred = classifier.predict_classes(x_test)\n",
        "cm = confusion_matrix(y_test,pred)\n",
        "\n",
        "f,ax = plt.subplots(figsize=(4, 4))\n",
        "sns.heatmap(cm, annot=True, linewidths=0.01,cmap=\"Purples\",linecolor=\"gray\", fmt= '.1f',ax=ax)\n",
        "plt.xlabel(\"Predicted Label\")\n",
        "plt.ylabel(\"True Label\")\n",
        "plt.title(\"Confusion Matrix\")\n",
        "plt.show()"
      ],
      "execution_count": 0,
      "outputs": [
        {
          "output_type": "display_data",
          "data": {
            "image/png": "[encoded data removed]",
            "text/plain": [
              "<Figure size 288x288 with 2 Axes>"
            ]
          },
          "metadata": {
            "tags": []
          }
        }
      ]
    },
    {
      "cell_type": "code",
      "metadata": {
        "id": "puVdIoZFWlNv",
        "colab_type": "code",
        "outputId": "c70a4ced-575e-4fd1-874b-8f36fb7e130b",
        "colab": {
          "base_uri": "https://localhost:8080/",
          "height": 34
        }
      },
      "source": [
        "accuracy=(cm[0][0]+cm[1][1])/len(y_test)\n",
        "print(accuracy)"
      ],
      "execution_count": 0,
      "outputs": [
        {
          "output_type": "stream",
          "text": [
            "0.6227758007117438\n"
          ],
          "name": "stdout"
        }
      ]
    }
  ]
}
